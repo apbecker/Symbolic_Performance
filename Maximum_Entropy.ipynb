{
 "cells": [
  {
   "cell_type": "code",
   "execution_count": 1,
   "metadata": {
    "collapsed": true
   },
   "outputs": [],
   "source": [
    "import datetime as dt\n",
    "import pandas as pd\n",
    "import numpy as np\n",
    "import requests\n",
    "import json\n",
    "\n",
    "from scipy.stats import entropy as entr\n",
    "from numpy.linalg import norm\n",
    "from pandas.tseries.offsets import MonthEnd\n",
    "from pandas_datareader import data, wb\n",
    "\n",
    "\n",
    "import statsmodels.formula.api as sm\n",
    "\n",
    "import seaborn as sns\n",
    "from  matplotlib import pyplot as plt\n",
    "%matplotlib inline\n",
    "\n",
    "sns.set_style(\"white\")\n",
    "sns.set_palette(\"RdBu_r\")"
   ]
  },
  {
   "cell_type": "code",
   "execution_count": 2,
   "metadata": {
    "collapsed": true,
    "scrolled": true
   },
   "outputs": [],
   "source": [
    "from time import sleep\n",
    "import datetime as dt"
   ]
  },
  {
   "cell_type": "code",
   "execution_count": 3,
   "metadata": {
    "collapsed": true
   },
   "outputs": [],
   "source": [
    "def formatPythonList(string):\n",
    "    return  [t.replace(\"{\",\"\").replace(\"}\",\"\").replace(\",\",\"\").replace(\"*^\",\"e\") \n",
    "             for t in string.fields()[0]]\n",
    "\n",
    "\n",
    "def mathematicaMaxEnt(list1, list2, norm=1):\n",
    "    l1 = \"List\"+str(list1)\n",
    "    l2 = \"List\"+str(list2)\n",
    "\n",
    "    maxent = !./maxent.sh \"$l1\" \"$l2\" \"$norm\"\n",
    "    maxent = formatPythonList(maxent)\n",
    "\n",
    "    return np.array(map(np.float, maxent)).reshape(len(list1), len(list2))"
   ]
  },
  {
   "cell_type": "code",
   "execution_count": 4,
   "metadata": {
    "collapsed": true
   },
   "outputs": [],
   "source": [
    "def JSD(P, Q):\n",
    "    p = np.array(P)\n",
    "    q = np.array(Q)\n",
    "    if len(p.shape) > 1:\n",
    "        p = p.flatten()\n",
    "        q = q.flatten()\n",
    "    m = 0.5 * (p + q)\n",
    "    return 0.5/np.log(2.) * (entr(p, m) + entr(q, m))\n",
    "\n",
    "\n",
    "def KLD(P, Q):\n",
    "    p = np.array(P)\n",
    "    q = np.array(Q)\n",
    "    if len(p.shape) > 1:\n",
    "        p = p.flatten()\n",
    "        q = q.flatten()\n",
    "    return entr(p, q)\n",
    "\n",
    "\n",
    "def S_KLD(X, Y, t0=None, t1=None):\n",
    "    x = X.loc[t0:t1]\n",
    "    y = Y.loc[t0:t1]\n",
    "    \n",
    "    x_bins = x.value_counts(True, True, True).sort_index().values.tolist()\n",
    "    y_bins = y.value_counts(True, True, True).sort_index().values.tolist()\n",
    "    \n",
    "    maxent_distr = mathematicaMaxEnt(x_bins, y_bins) \n",
    "    emp_distr = pd.crosstab(x, y, normalize=True)\n",
    "    \n",
    "    return KLD(emp_distr, maxent_distr)\n",
    "\n",
    "\n",
    "def rescaleRange(x):\n",
    "    return 1 - np.exp(-2.*x)\n",
    "\n",
    "def stringCSV(name, *arg):\n",
    "    string = name\n",
    "    if len(arg) > 0:\n",
    "        string = string + \"_\"\n",
    "        arg = [a for a in arg if a is not None]\n",
    "        arg = map(str, arg)\n",
    "        \n",
    "    return string + \"_\".join(arg) + \".csv\""
   ]
  },
  {
   "cell_type": "code",
   "execution_count": 5,
   "metadata": {},
   "outputs": [],
   "source": [
    "class comtradeAPI(object):\n",
    "    def __init__(self):\n",
    "        self._url = \"http://comtrade.un.org/api/get\"\n",
    "        \n",
    "        self._callstat = pd.DataFrame(data=[pd.datetime.now()],\n",
    "                                      columns=[\"calltime\"])\n",
    "        self._maxcalls = 98 \n",
    "        \n",
    "\n",
    "    def _timing_wrapper(func):\n",
    "        from time import sleep\n",
    "        \n",
    "        def wrapper(*args, **kwargs):\n",
    "            sleep(1)\n",
    "            return func(*args, **kwargs)\n",
    "        return wrapper\n",
    "            \n",
    "        \n",
    "    @_timing_wrapper\n",
    "    def get_data(self, **params):\n",
    "        url = self._url\n",
    "        \n",
    "        try:\n",
    "            response = requests.get(url, params=params)\n",
    "        except requests.RequestException as e:\n",
    "            print (str(e))\n",
    "        \n",
    "        content = response.content.decode('utf-8')\n",
    "        try:\n",
    "            content = json.loads(content)\n",
    "        except:\n",
    "            pass\n",
    "        \n",
    "        return content"
   ]
  },
  {
   "cell_type": "code",
   "execution_count": 6,
   "metadata": {},
   "outputs": [],
   "source": [
    "class financialData(object):\n",
    "    \n",
    "    def __init__(self):\n",
    "        pass\n",
    "    \n",
    "    def get_stock(self, symbol=\"SPY\", source=\"iex\", start=\"2017-01-01\", end=\"2017-12-31\", resample=\"Q\"):\n",
    "        df = data.DataReader(symbol, source, start, end).loc[:, \"close\"].to_frame(symbol)\n",
    "        df.index = pd.to_datetime(df.index)\n",
    "        if resample == None:\n",
    "            return df\n",
    "        else:\n",
    "            return df.resample(resample).last()\n",
    "        \n",
    "        \n",
    "    \n",
    "    def get_oil(self, start=\"2017-01-01\", end=\"2017-12-31\", resample=\"Q\"):\n",
    "        oil_df = pd.read_excel(\"http://www.eia.gov/dnav/pet/hist_xls/RCLC1d.xls\", \n",
    "                               sheet_name=1, header=2, index_col=0, parse_dates=True)\n",
    "        oil_df.columns = [\"Oil_Price\"]\n",
    "        \n",
    "        return oil_df.loc[start:end].resample(resample).last()"
   ]
  },
  {
   "cell_type": "code",
   "execution_count": 7,
   "metadata": {
    "scrolled": true
   },
   "outputs": [],
   "source": [
    "fd = financialData()"
   ]
  },
  {
   "cell_type": "code",
   "execution_count": 9,
   "metadata": {
    "collapsed": true
   },
   "outputs": [],
   "source": [
    "ct = comtradeAPI()"
   ]
  },
  {
   "cell_type": "code",
   "execution_count": 10,
   "metadata": {
    "scrolled": true
   },
   "outputs": [],
   "source": [
    "def lookupISO(export=True):\n",
    "    ct = comtradeAPI()\n",
    "    fx_dict = {\"AUS\":\"AUD\", \"AUT\":\"EUR\", \"BEL\":\"EUR\", \"CAN\":\"CAD\", \"CHE\":\"CHF\", \"CYP\":\"EUR\", \n",
    "               \"DEU\":\"EUR\", \"ESP\":\"EUR\", \"EST\":\"EUR\", \"FIN\":\"EUR\", \"FRA\":\"EUR\", \"GBR\":\"GBP\",\n",
    "               \"GRC\":\"EUR\", \"IRL\":\"EUR\", \"ITA\":\"EUR\", \"JPN\":\"JPY\", \"LTU\":\"EUR\", \"LUX\":\"EUR\",\n",
    "               \"LVA\":\"EUR\", \"MEX\":\"MXN\", \"MLT\":\"EUR\", \"NLD\":\"EUR\", \"NOR\":\"NOK\", \"NZL\":\"NZD\", \n",
    "               \"SGP\":\"SGD\", \"SWE\":\"SEK\", \"PRT\":\"EUR\", \"SVK\":\"EUR\", \"SVN\":\"EUR\", \"USA\":\"USD\"}\n",
    "    \n",
    "    # Dummy lookup of all trading relationships in two years to capture the UN Comtrade country codes\n",
    "    lookup = ct.get_data(ps=\"2008,2016\", r=\"36\", p=\"All\", fmt=\"json\")\n",
    "    lookup_df = pd.DataFrame.from_dict(lookup[\"dataset\"]).loc[:, [\"ptCode\", \"pt3ISO\"]].drop_duplicates()\n",
    "    lookup_df = lookup_df.rename(columns={\"ptCode\":\"UN\"})\n",
    "\n",
    "    # Create column with currency codes belonging to each country\n",
    "    lookup_df.loc[:, \"FX\"] = lookup_df.loc[:, \"pt3ISO\"].map(iso_dict)\n",
    "    \n",
    "    if export:\n",
    "        lookup_df.to_csv(\"iso_codes.csv\")\n",
    "    \n",
    "    return lookup_df\n",
    "\n",
    "\n",
    "try:\n",
    "    iso_codes = pd.read_csv(\"iso_codes.csv\", index_col=0).dropna().set_index(\"pt3ISO\").to_dict()\n",
    "except:\n",
    "    lookup_df = lookupISO()"
   ]
  },
  {
   "cell_type": "code",
   "execution_count": 11,
   "metadata": {
    "collapsed": true
   },
   "outputs": [],
   "source": [
    "df = pd.read_csv(\"data/M10_2005_2018_returns_filtered.csv\", \n",
    "                 engine='c', index_col='time', parse_dates=True)\n",
    "\n",
    "symbols = [\"EUR_AUD\", \"EUR_CAD\", \"EUR_CHF\", \"EUR_EUR\", \"EUR_GBP\", \"EUR_JPY\", \n",
    "           \"EUR_MXN\", \"EUR_NOK\", \"EUR_NZD\", \"EUR_SEK\", \"EUR_SGD\", \"EUR_USD\", \"EUR_ZAR\"]"
   ]
  },
  {
   "cell_type": "code",
   "execution_count": 19,
   "metadata": {},
   "outputs": [
    {
     "data": {
      "text/plain": [
       "array([[ 2,  4,  6],\n",
       "       [ 3,  6,  9],\n",
       "       [ 4,  8, 12]])"
      ]
     },
     "execution_count": 19,
     "metadata": {},
     "output_type": "execute_result"
    }
   ],
   "source": [
    "np.outer([2,3,4],[1,2,3])"
   ]
  },
  {
   "cell_type": "code",
   "execution_count": 63,
   "metadata": {},
   "outputs": [],
   "source": [
    "class CurrencySet(object):\n",
    "    def __init__(self, df, symbols=None, t0=\"20080101\", t1=None):\n",
    "        self._returns = df.loc[t0:t1, symbols]\n",
    "        self._no = len(self._returns.columns)\n",
    "\n",
    "        self._ranks = self._returns.rank(axis=1, numeric_only=True, method='first')\n",
    "        self._ranks = 2*self._ranks.applymap(np.int) - (self._no+1)\n",
    "\n",
    "        self._curr = [_c[4:] for _c in self._ranks.columns]\n",
    "        self._ranks.columns = self._curr\n",
    "        \n",
    "        self._bincounts = self._ranks.apply(pd.Series.value_counts, args=(True,True,True,))\n",
    "\n",
    "    \n",
    "    def _KLD(self, P, Q):\n",
    "        p = np.array(P)\n",
    "        q = np.array(Q)\n",
    "        if len(p.shape) > 1:\n",
    "            p = p.flatten()\n",
    "            q = q.flatten()\n",
    "        return entr(p, q)\n",
    "\n",
    "\n",
    "    def _S_KLD(self, X, Y, maxent_func=mathematicaMaxEnt, t0=None, t1=None):\n",
    "        x = X.loc[t0:t1]\n",
    "        y = Y.loc[t0:t1]\n",
    "\n",
    "        x_bins = x.value_counts(True, True, True).sort_index().values.tolist()\n",
    "        y_bins = y.value_counts(True, True, True).sort_index().values.tolist()\n",
    "\n",
    "        maxent_distr = maxent_func(x_bins, y_bins) \n",
    "        emp_distr = pd.crosstab(x, y, normalize=True).as_matrix()\n",
    "        \n",
    "        return self._KLD(emp_distr, maxent_distr)\n",
    "    \n",
    "    \n",
    "    def _calc_KLD(self, df, no, lag):\n",
    "        curr = self._curr\n",
    "        # If no lag, then calculate for i, j, and i!=j\n",
    "        # Else, calculate all i, j pairs, but use symmetry.\n",
    "        # To do that, create matrix where all pairs to be calculated are np.nan\n",
    "        if lag > 0:\n",
    "            kld_df = pd.DataFrame(data=np.empty((no,no,)).fill(False),\n",
    "                                  index=[c+ \"_predictor\" for c in curr], columns=curr)\n",
    "            maxent_func = np.outer\n",
    "        else:\n",
    "            kld_df = pd.DataFrame(data=np.identity(no),\n",
    "                                  index=curr, columns=curr).replace(0, False) - 1\n",
    "            maxent_func = mathematicaMaxEnt\n",
    "        \n",
    "        for i in range(no):\n",
    "            for j in range(no):\n",
    "                if kld_df.iloc[i,j]:\n",
    "                    df_i, df_j = self._predictor(df.iloc[:, [i,j]], lag) \n",
    "                    kld_df.iloc[i,j] = rescaleRange(self._S_KLD(df_i, df_j, maxent_func))\n",
    "                else:\n",
    "                    pass\n",
    "                \n",
    "                if lag == 0:\n",
    "                    kld_df.iloc[j,i] = kld_df.iloc[i,j]\n",
    "        \n",
    "        return kld_df\n",
    "\n",
    "    \n",
    "    def _predictor(self, df, lag):\n",
    "        if lag > 0:\n",
    "            c1, c2 = df.columns\n",
    "            df_predictor = pd.merge(df.iloc[:, 0].shift(lag).to_frame(c1 + \"_predictor\"),\n",
    "                              df.iloc[:, 1].to_frame(c2), \n",
    "                              left_index=True, right_index=True)\n",
    "            df_predictor = df_predictor.dropna().applymap(np.int)\n",
    "        else:\n",
    "            df_predictor = df\n",
    "            \n",
    "        return df_predictor.iloc[:, 0], df_predictor.iloc[:, 1]\n",
    "\n",
    "        \n",
    "    def _timeslicer(self, year, q):\n",
    "        # Allow to evaluate quarterly. \n",
    "        # If no quarter is specified, select whole year\n",
    "            \n",
    "        if year != None:\n",
    "            y1, y2 = str(year)\n",
    "                \n",
    "        else:\n",
    "            y1, y2 = str(self._ranks.index[0].year), str(self._ranks.index[-1].year)\n",
    "            q = None\n",
    "            \n",
    "        if q != None:\n",
    "            q0, q1 = '{:02d}'.format(3*q-2), '{:02d}'.format(3*q)\n",
    "        else:\n",
    "            q0, q1 = \"01\", \"12\"\n",
    "            \n",
    "        \n",
    "        loc0 = pd.to_datetime(y1 + \"-\" + q0 + \"-01\")\n",
    "        loc1 = pd.to_datetime(y2 + \"-\" + q1) + MonthEnd(1)\n",
    "        \n",
    "        return loc0, loc1\n",
    "    \n",
    "    \n",
    "    \n",
    "        \n",
    "    def get_ranks(self):\n",
    "        return self._ranks\n",
    "    \n",
    "    \n",
    "    def get_bincounts(self):\n",
    "        return self._bincounts\n",
    "    \n",
    "    \n",
    "    def get_KLD_matrix(self, year=None, q=None, lag=0, export=True):\n",
    "        # Number of currencies\n",
    "        no = self._no\n",
    "        \n",
    "        loc0, loc1 = self._timeslicer(year, q)\n",
    "    \n",
    "        df = self._ranks.loc[loc0:loc1]\n",
    "                \n",
    "        # Calculate Kullback-Leibler divergence for all pairs of empirical and theoretical \n",
    "        # bivariate distributions and rescale to [0,1].\n",
    "        kld_df = self._calc_KLD(df, no, lag)\n",
    "        \n",
    "        # After calculating one triangle of matrix, mirror along diagonal and \n",
    "        # set diagonal to np.nan\n",
    "        kld_df = kld_df.replace(0, np.nan)\n",
    "        \n",
    "        if export == True:\n",
    "            kld_df.to_csv(stringCSV(\"KLD\", no, year, q, \"lag_\"+str(lag)), index=True)\n",
    "        else:\n",
    "            pass\n",
    "        \n",
    "        return kld_df"
   ]
  },
  {
   "cell_type": "code",
   "execution_count": 64,
   "metadata": {},
   "outputs": [
    {
     "data": {
      "text/plain": [
       "<matplotlib.axes._subplots.AxesSubplot at 0x1a187f41d0>"
      ]
     },
     "execution_count": 64,
     "metadata": {},
     "output_type": "execute_result"
    },
    {
     "data": {
      "image/png": "[encoded data removed]",
      "text/plain": [
       "<Figure size 432x288 with 2 Axes>"
      ]
     },
     "metadata": {},
     "output_type": "display_data"
    }
   ],
   "source": [
    "cs = CurrencySet(df, symbols)\n",
    "\n",
    "sns.heatmap(cs.get_KLD_matrix(year=None, q=None, lag=1, export=False), cmap=\"Blues\")"
   ]
  },
  {
   "cell_type": "code",
   "execution_count": null,
   "metadata": {
    "collapsed": true
   },
   "outputs": [],
   "source": []
  }
 ],
 "metadata": {
  "kernelspec": {
   "display_name": "Python 2",
   "language": "python",
   "name": "python2"
  },
  "language_info": {
   "codemirror_mode": {
    "name": "ipython",
    "version": 2
   },
   "file_extension": ".py",
   "mimetype": "text/x-python",
   "name": "python",
   "nbconvert_exporter": "python",
   "pygments_lexer": "ipython2",
   "version": "2.7.14"
  }
 },
 "nbformat": 4,
 "nbformat_minor": 2
}
